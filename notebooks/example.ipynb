{
 "cells": [
  {
   "cell_type": "code",
   "execution_count": 1,
   "metadata": {},
   "outputs": [
    {
     "name": "stdout",
     "output_type": "stream",
     "text": [
      "WARNING:tensorflow:From /home/ec2-user/anaconda3/lib/python3.6/site-packages/tensorflow/python/compat/v2_compat.py:96: disable_resource_variables (from tensorflow.python.ops.variable_scope) is deprecated and will be removed in a future version.\n",
      "Instructions for updating:\n",
      "non-resource variables are not supported in the long term\n"
     ]
    }
   ],
   "source": [
    "import sys\n",
    "sys.path.insert(0, '/efs/prism/')\n",
    "\n",
    "import ray\n",
    "import ray.rllib.agents.ddpg as ddpg\n",
    "\n",
    "from prism.simulator import Simulator"
   ]
  },
  {
   "cell_type": "code",
   "execution_count": 2,
   "metadata": {},
   "outputs": [],
   "source": [
    "simulator = Simulator(simulator_name='test_sim', local_dir='/efs/prism/logs/', verbose=3)"
   ]
  },
  {
   "cell_type": "markdown",
   "metadata": {},
   "source": [
    "# Test DDPG on MountainCarContinuous-v0 Environment"
   ]
  },
  {
   "cell_type": "code",
   "execution_count": 3,
   "metadata": {},
   "outputs": [],
   "source": [
    "env = 'MountainCarContinuous-v0'\n",
    "\n",
    "config = ddpg.DEFAULT_CONFIG.copy()\n",
    "config['framework'] = 'torch'\n",
    "config['env'] = env\n",
    "\n",
    "stop_criteria = {\"training_iteration\": 5}"
   ]
  },
  {
   "cell_type": "markdown",
   "metadata": {},
   "source": [
    "## 1) Train"
   ]
  },
  {
   "cell_type": "code",
   "execution_count": null,
   "metadata": {
    "scrolled": true
   },
   "outputs": [],
   "source": [
    "%%time\n",
    "analysis = simulator.train(name='ddpg_MountainCarContinuous-v0',\n",
    "                           trainer=ddpg.DDPGTrainer,\n",
    "                           config=config,\n",
    "                           checkpoint_freq=1,\n",
    "                           stop_criteria=stop_criteria,\n",
    "                           callbacks=None)"
   ]
  },
  {
   "cell_type": "markdown",
   "metadata": {},
   "source": [
    "## 2) Restore"
   ]
  },
  {
   "cell_type": "code",
   "execution_count": null,
   "metadata": {
    "scrolled": true
   },
   "outputs": [],
   "source": [
    "path = '/efs/prism/logs/ddpg_MountainCarContinuous-v0/DDPG_MountainCarContinuous-v0_cac12_00000_0_2021-01-06_16-04-01/'\n",
    "\n",
    "analysis = simulator.restore(name='ddpg_MountainCarContinuous-v0',\n",
    "                             trainer=ddpg.DDPGTrainer,\n",
    "                             config=config,\n",
    "                             checkpoint_freq=1,\n",
    "                             stop_criteria=stop_criteria,\n",
    "                             callbacks=None,\n",
    "                             restore_path=path,\n",
    "                             checkpoint=5)"
   ]
  },
  {
   "cell_type": "markdown",
   "metadata": {},
   "source": [
    "## 3) Tune"
   ]
  },
  {
   "cell_type": "code",
   "execution_count": null,
   "metadata": {},
   "outputs": [],
   "source": [
    "#TODO: check the tune with grid search"
   ]
  },
  {
   "cell_type": "markdown",
   "metadata": {},
   "source": [
    "## 4) Load"
   ]
  },
  {
   "cell_type": "code",
   "execution_count": 4,
   "metadata": {},
   "outputs": [
    {
     "name": "stderr",
     "output_type": "stream",
     "text": [
      "2021-01-06 16:13:45,007\tINFO services.py:1173 -- View the Ray dashboard at \u001b[1m\u001b[32mhttp://127.0.0.1:8265\u001b[39m\u001b[22m\n",
      "2021-01-06 16:13:47,170\tINFO trainer.py:618 -- Current log_level is WARN. For more information, set 'log_level': 'INFO' / 'DEBUG' or use the -v and -vv flags.\n",
      "/home/ec2-user/anaconda3/lib/python3.6/site-packages/torch/cuda/__init__.py:52: UserWarning: CUDA initialization: The NVIDIA driver on your system is too old (found version 10000). Please update your GPU driver by downloading and installing a new version from the URL: http://www.nvidia.com/Download/index.aspx Alternatively, go to: https://pytorch.org to install a PyTorch version that has been compiled with your version of the CUDA driver. (Triggered internally at  /pytorch/c10/cuda/CUDAFunctions.cpp:100.)\n",
      "  return torch._C._cuda_getDeviceCount() > 0\n",
      "2021-01-06 16:13:47,254\tINFO trainable.py:329 -- Restored on 172.31.20.193 from checkpoint: /efs/prism/logs/ddpg_MountainCarContinuous-v0/DDPG_MountainCarContinuous-v0_34130_00000_0_2021-01-06_16-06-58/checkpoint_6/checkpoint-6\n",
      "2021-01-06 16:13:47,255\tINFO trainable.py:336 -- Current state after restoring: {'_iteration': 6, '_timesteps_total': None, '_time_total': 148.2594039440155, '_episodes_total': 6}\n"
     ]
    }
   ],
   "source": [
    "path = '/efs/prism/logs/ddpg_MountainCarContinuous-v0/DDPG_MountainCarContinuous-v0_34130_00000_0_2021-01-06_16-06-58/'\n",
    "\n",
    "agent, config = Simulator.load(path=path,\n",
    "                               checkpoint=6,\n",
    "                               env=env,\n",
    "                               algo_name='DDPG')"
   ]
  },
  {
   "cell_type": "markdown",
   "metadata": {},
   "source": [
    "## 5) Rollout"
   ]
  },
  {
   "cell_type": "code",
   "execution_count": 5,
   "metadata": {},
   "outputs": [
    {
     "name": "stderr",
     "output_type": "stream",
     "text": [
      "2021-01-06 16:13:49,960\tINFO services.py:1173 -- View the Ray dashboard at \u001b[1m\u001b[32mhttp://127.0.0.1:8265\u001b[39m\u001b[22m\n"
     ]
    }
   ],
   "source": [
    "import gym\n",
    "env_class = gym.envs.make(env)\n",
    "\n",
    "episode_reward = Simulator.rollout(agent=agent, \n",
    "                           env=env_class,\n",
    "                           n_steps=100)"
   ]
  },
  {
   "cell_type": "code",
   "execution_count": 6,
   "metadata": {},
   "outputs": [
    {
     "data": {
      "text/plain": [
       "-3.170771922205436"
      ]
     },
     "execution_count": 6,
     "metadata": {},
     "output_type": "execute_result"
    }
   ],
   "source": [
    "episode_reward"
   ]
  },
  {
   "cell_type": "code",
   "execution_count": null,
   "metadata": {},
   "outputs": [],
   "source": []
  }
 ],
 "metadata": {
  "kernelspec": {
   "display_name": "Python 3",
   "language": "python",
   "name": "python3"
  },
  "language_info": {
   "codemirror_mode": {
    "name": "ipython",
    "version": 3
   },
   "file_extension": ".py",
   "mimetype": "text/x-python",
   "name": "python",
   "nbconvert_exporter": "python",
   "pygments_lexer": "ipython3",
   "version": "3.6.6"
  }
 },
 "nbformat": 4,
 "nbformat_minor": 4
}
